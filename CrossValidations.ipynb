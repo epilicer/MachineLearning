{
 "cells": [
  {
   "cell_type": "markdown",
   "metadata": {},
   "source": [
    "# K-Folds Cross Validation\n",
    "\n",
    "Demonstration of the bias/variance tradeoff, by using supervised algorithm\n",
    "\n",
    "Bias, in effect, measures how far, in general, the model's predictions are from the correct value.\n",
    "Bias is a measure to judge the models on the basis of accuracry or just how correct the model is on an average.\n",
    "\n",
    "Variance is a measure of how much the predictions for a fixed point vary between different end results.\n",
    "If the model does not change much between samples, the model would be considered a low variance model.\n",
    "If the model changes drastically between samples, the model would be considered a high variance model.\n",
    "\n",
    "Underfitting: Models with high bias + low variance. To overcome this issue:\n",
    "- Use more features\n",
    "- Try more complicated models\n",
    "\n",
    "Overfitting: Models with low bias + high variance. To overcome this issue:\n",
    "- Use fewer features\n",
    "- Fit on more training samples\n",
    "\n",
    "To combat overfitting in practice, one should always use cross-validation.\n",
    "\n",
    "K-Nearest Neighbors (KNN) algorithm is used and it is a supervised learning algorithm that uses a lookalike paradigm, \n",
    "which means that it makes predictions based on similar data points seen in the past.\n",
    "\n",
    "KNN has a complexity input, K, which represents how many similar data points to compare to. \n",
    "If K = 3, then, for a given input, look at the nearest three data points and use them for the prediction.\n",
    "\n",
    "In this case, K represents our model complexity.\n"
   ]
  },
  {
   "cell_type": "code",
   "execution_count": 180,
   "metadata": {},
   "outputs": [
    {
     "name": "stdout",
     "output_type": "stream",
     "text": [
      "1.0\n"
     ]
    }
   ],
   "source": [
    "# read in the iris data\n",
    "from sklearn.datasets import load_iris\n",
    "\n",
    "iris = load_iris()\n",
    "X, y = iris.data, iris.target\n",
    "\n",
    "from sklearn.neighbors import KNeighborsClassifier\n",
    "\n",
    "knn = KNeighborsClassifier(n_neighbors=1)\n",
    "knn.fit(X, y)\n",
    "print(knn.score(X, y)) # returns 1 because we are fitting on the real data, and scoring on real target"
   ]
  },
  {
   "cell_type": "code",
   "execution_count": 181,
   "metadata": {},
   "outputs": [
    {
     "name": "stdout",
     "output_type": "stream",
     "text": [
      "0.96\n"
     ]
    }
   ],
   "source": [
    "# Using a training set and test set is so important\n",
    "# Just as important is cross validation. Remember cross validation\n",
    "# is using several different train test splits and\n",
    "# averaging your results!\n",
    "\n",
    "## CROSS-VALIDATION\n",
    "# check CV score for K=1\n",
    "from sklearn.model_selection import cross_val_score, train_test_split\n",
    "\n",
    "tree = KNeighborsClassifier(n_neighbors=1)\n",
    "scores = cross_val_score(tree, X, y, cv=5, scoring='accuracy')\n",
    "print(scores.mean()) # returns 0.96 because now we have train/test data set, KNN has not seen the test points"
   ]
  },
  {
   "cell_type": "code",
   "execution_count": 184,
   "metadata": {},
   "outputs": [
    {
     "name": "stdout",
     "output_type": "stream",
     "text": [
      "[0.96666667 1.         0.93333333 0.96666667 1.        ]\n",
      "0.9733333333333334\n"
     ]
    },
    {
     "data": {
      "text/plain": [
       "Text(0, 0.5, 'Error')"
      ]
     },
     "execution_count": 184,
     "metadata": {},
     "output_type": "execute_result"
    },
    {
     "data": {
      "image/png": "[encoded data removed]",
      "text/plain": [
       "<Figure size 432x288 with 1 Axes>"
      ]
     },
     "metadata": {
      "needs_background": "light"
     },
     "output_type": "display_data"
    }
   ],
   "source": [
    "import numpy as np\n",
    "\n",
    "# check CV score for K=5\n",
    "knn = KNeighborsClassifier(n_neighbors=5)\n",
    "scores = cross_val_score(knn, X, y, cv=5, scoring='accuracy')\n",
    "print(scores)\n",
    "print(np.mean(scores))\n",
    "\n",
    "# search for an optimal value of K\n",
    "k_range = range(1, 30, 2) # [1, 3, 5, 7, …, 27, 29]\n",
    "errors = []\n",
    "for k in k_range:\n",
    "    knn = KNeighborsClassifier(n_neighbors=k)                      # instantiate a KNN with k neighbors\n",
    "    scores = cross_val_score(knn, X, y, cv=5, scoring='accuracy')  # get our five accuracy scores\n",
    "    accuracy = np.mean(scores)                                     # average them together\n",
    "    error = 1 - accuracy                                           # get our error, which is 1 minus the accuracy\n",
    "    errors.append(error)                                           # keep track of a list of errors\n",
    "\n",
    "# plot the K values (x-axis) versus the 5-fold CV score (y-axis)\n",
    "plt.figure()\n",
    "plt.plot(k_range, errors)\n",
    "plt.xlabel('K')\n",
    "plt.ylabel('Error')"
   ]
  },
  {
   "cell_type": "markdown",
   "metadata": {},
   "source": [
    "Toward the left, the graph has a higher bias and is underfitting.\n",
    "As the model's complexity increases, the error term began to go down\n",
    "But after a while, the model became overly complex, and the high variance kicked in, making our error term go back up.\n",
    "\n",
    "It seems that the optimal value of K is between 6 and 10.\n",
    "\n",
    "\n",
    "## Grid searching\n",
    "sklearn also has, up its sleeve, another useful tool called grid searching. A grid\n",
    "search will by brute force try many different model parameters and give us the best\n",
    "one based on a metric of our choosing. For example, we can choose to optimize KNN\n",
    "for accuracy in the following manner:\n",
    "\n",
    "For each combination of features, i15 different possibilities for K, \n",
    "the model is cross-validated each one five time.\n",
    "This means that by the end of this code, 15 * 5 = 75 different KNN models!\n"
   ]
  },
  {
   "cell_type": "code",
   "execution_count": 238,
   "metadata": {},
   "outputs": [
    {
     "data": {
      "text/plain": [
       "GridSearchCV(cv=5, error_score='raise-deprecating',\n",
       "       estimator=KNeighborsClassifier(algorithm='auto', leaf_size=30, metric='minkowski',\n",
       "           metric_params=None, n_jobs=None, n_neighbors=5, p=2,\n",
       "           weights='uniform'),\n",
       "       fit_params=None, iid='warn', n_jobs=None,\n",
       "       param_grid={'n_neighbors': range(1, 30, 2)},\n",
       "       pre_dispatch='2*n_jobs', refit=True, return_train_score='warn',\n",
       "       scoring='accuracy', verbose=0)"
      ]
     },
     "execution_count": 238,
     "metadata": {},
     "output_type": "execute_result"
    }
   ],
   "source": [
    "from sklearn.model_selection import GridSearchCV\n",
    "\n",
    "knn = KNeighborsClassifier()  # instantiate a blank slate KNN, no neighbors\n",
    "k_range = range(1, 30, 2)\n",
    "param_grid = dict(n_neighbors=k_range)  # param_grid = {\"n_ neighbors\": [1, 3, 5, …]}\n",
    "grid = GridSearchCV(knn, param_grid, cv=5, scoring='accuracy')\n",
    "grid.fit(X, y)"
   ]
  },
  {
   "cell_type": "code",
   "execution_count": 239,
   "metadata": {},
   "outputs": [
    {
     "data": {
      "text/plain": [
       "75"
      ]
     },
     "execution_count": 239,
     "metadata": {},
     "output_type": "execute_result"
    }
   ],
   "source": [
    "# number of KNN models\n",
    "len(k_range) * 5"
   ]
  },
  {
   "cell_type": "code",
   "execution_count": 218,
   "metadata": {},
   "outputs": [
    {
     "name": "stdout",
     "output_type": "stream",
     "text": [
      "dict_keys(['mean_fit_time', 'std_fit_time', 'mean_score_time', 'std_score_time', 'param_n_neighbors', 'params', 'split0_test_score', 'split1_test_score', 'split2_test_score', 'split3_test_score', 'split4_test_score', 'mean_test_score', 'std_test_score', 'rank_test_score', 'split0_train_score', 'split1_train_score', 'split2_train_score', 'split3_train_score', 'split4_train_score', 'mean_train_score', 'std_train_score'])\n"
     ]
    },
    {
     "data": {
      "text/plain": [
       "[<matplotlib.lines.Line2D at 0x1ea9f6a7860>]"
      ]
     },
     "execution_count": 218,
     "metadata": {},
     "output_type": "execute_result"
    },
    {
     "data": {
      "image/png": "[encoded data removed]",
      "text/plain": [
       "<Figure size 432x288 with 1 Axes>"
      ]
     },
     "metadata": {
      "needs_background": "light"
     },
     "output_type": "display_data"
    }
   ],
   "source": [
    "# check the results of the grid search\n",
    "print(grid.cv_results_.keys())\n",
    "\n",
    "#grid.cv_results_\n",
    "grid_mean_test_score = grid.cv_results_['mean_test_score']\n",
    "\n",
    "# this is a list of the average accuracies for each parameter combination\n",
    "plt.figure()\n",
    "plt.ylim([0.9, 1])\n",
    "plt.xlabel('Tuning Parameter: N nearest neighbors')\n",
    "plt.ylabel('Classification Accuracy')\n",
    "plt.plot(k_range, grid_mean_test_score)\n",
    "plt.plot(grid.best_params_['n_neighbors'], grid.best_score_, 'ro',\n",
    "         markersize=12, markeredgewidth=1.5,\n",
    "         markerfacecolor='None', markeredgecolor='r')"
   ]
  },
  {
   "cell_type": "code",
   "execution_count": 226,
   "metadata": {},
   "outputs": [
    {
     "name": "stdout",
     "output_type": "stream",
     "text": [
      "{'n_neighbors': 7}\n",
      "0.98\n",
      "0.016329931618554516\n",
      "KNeighborsClassifier(algorithm='auto', leaf_size=30, metric='minkowski',\n",
      "           metric_params=None, n_jobs=None, n_neighbors=7, p=2,\n",
      "           weights='uniform')\n"
     ]
    },
    {
     "data": {
      "text/plain": [
       "\"\\nKNeighborsClassifier(algorithm='auto', leaf_size=30,\\n                     metric='minkowski',\\n                     metric_params=None, n_jobs=1, n_neighbors=7, p=2,\\n                     weights='uniform')\\n\""
      ]
     },
     "execution_count": 226,
     "metadata": {},
     "output_type": "execute_result"
    }
   ],
   "source": [
    "# instead of above graph, to get best params of the model\n",
    "\n",
    "print(grid.best_params_) # grid.cv_results_['params'][result.best_index_]\n",
    "print(grid.best_score_)  # grid.cv_results_['mean_test_score'][result.best_index_]\n",
    "print(grid.cv_results_['std_test_score'][grid.best_index_])\n",
    "\n",
    "# actually returns the unfit model with the best parameters\n",
    "print(grid.best_estimator_)"
   ]
  },
  {
   "cell_type": "markdown",
   "metadata": {},
   "source": [
    "KNN has other parameters\n",
    "as well, such as algorithm, p, and weights. A quick look at the scikit-learn\n",
    "documentation reveals that we have some options for each of these, which are as\n",
    "follows:\n",
    "- p is an integer and represents the type of distance we wish to use. By default, we use p=2, which is our standard distance formula.\n",
    "- Weights is, by default, uniform, but can also be distance, which weighs points by their distance, which means that closer neighbors have a greater impact on the prediction.\n",
    "- Algorithm is how the model finds the nearest neighbors. We can try ball_ tree, kd_tree, or brute. The default is auto, which tries to use the best one automatically."
   ]
  },
  {
   "cell_type": "code",
   "execution_count": 240,
   "metadata": {},
   "outputs": [
    {
     "data": {
      "text/plain": [
       "GridSearchCV(cv=5, error_score='raise-deprecating',\n",
       "       estimator=KNeighborsClassifier(algorithm='auto', leaf_size=30, metric='minkowski',\n",
       "           metric_params=None, n_jobs=None, n_neighbors=5, p=2,\n",
       "           weights='uniform'),\n",
       "       fit_params=None, iid='warn', n_jobs=None,\n",
       "       param_grid={'n_neighbors': range(1, 30), 'weights': ['uniform', 'distance'], 'algorithm': ['kd_tree', 'ball_tree', 'auto', 'brute'], 'p': range(1, 8)},\n",
       "       pre_dispatch='2*n_jobs', refit=True, return_train_score='warn',\n",
       "       scoring='accuracy', verbose=0)"
      ]
     },
     "execution_count": 240,
     "metadata": {},
     "output_type": "execute_result"
    }
   ],
   "source": [
    "knn = KNeighborsClassifier()\n",
    "k_range = range(1, 30)\n",
    "algorithm_options = ['kd_tree', 'ball_tree', 'auto', 'brute']\n",
    "p_range = range(1, 8)\n",
    "weight_range = ['uniform', 'distance']\n",
    "param_grid = dict(n_neighbors=k_range, weights=weight_range, algorithm=algorithm_options, p=p_range)\n",
    "# trying many more options\n",
    "grid = GridSearchCV(knn, param_grid, cv=5, scoring='accuracy')\n",
    "grid.fit(X, y)"
   ]
  },
  {
   "cell_type": "code",
   "execution_count": 241,
   "metadata": {},
   "outputs": [
    {
     "data": {
      "text/plain": [
       "8120"
      ]
     },
     "execution_count": 241,
     "metadata": {},
     "output_type": "execute_result"
    }
   ],
   "source": [
    "# number of KNN models\n",
    "len(k_range) * len(algorithm_options) * len(p_range) * len(weight_range) * 5"
   ]
  },
  {
   "cell_type": "code",
   "execution_count": 242,
   "metadata": {},
   "outputs": [
    {
     "name": "stdout",
     "output_type": "stream",
     "text": [
      "{'algorithm': 'kd_tree', 'n_neighbors': 6, 'p': 3, 'weights': 'uniform'}\n",
      "0.9866666666666667\n",
      "KNeighborsClassifier(algorithm='kd_tree', leaf_size=30, metric='minkowski',\n",
      "           metric_params=None, n_jobs=None, n_neighbors=6, p=3,\n",
      "           weights='uniform')\n"
     ]
    }
   ],
   "source": [
    "print(grid.best_params_)\n",
    "print(grid.best_score_)\n",
    "print(grid.best_estimator_)"
   ]
  },
  {
   "cell_type": "markdown",
   "metadata": {},
   "source": [
    "Grid searching is a simple (but inefficient) way of parameter tuning the models to get the best possible outcome.\n",
    "\n",
    "It should be noted that to get the best possible outcome, feature manipulation (both reduction and engineering) should be used to obtain better results in practice as well. \n",
    "\n",
    "It should not merely be up to the model to achieve the best performance."
   ]
  }
 ],
 "metadata": {
  "kernelspec": {
   "display_name": "Python 3",
   "language": "python",
   "name": "python3"
  },
  "language_info": {
   "codemirror_mode": {
    "name": "ipython",
    "version": 3
   },
   "file_extension": ".py",
   "mimetype": "text/x-python",
   "name": "python",
   "nbconvert_exporter": "python",
   "pygments_lexer": "ipython3",
   "version": "3.7.3"
  }
 },
 "nbformat": 4,
 "nbformat_minor": 2
}
